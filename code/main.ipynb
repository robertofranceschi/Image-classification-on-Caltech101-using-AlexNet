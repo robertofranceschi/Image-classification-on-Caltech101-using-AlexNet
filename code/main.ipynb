{
  "nbformat": 4,
  "nbformat_minor": 0,
  "metadata": {
    "colab": {
      "name": "Image classification on Caltech101 using CNNs",
      "provenance": [],
      "collapsed_sections": []
    },
    "kernelspec": {
      "name": "python3",
      "display_name": "Python 3"
    },
    "accelerator": "GPU"
  },
  "cells": [
    {
      "cell_type": "markdown",
      "metadata": {
        "id": "c9QcGnGPdX2C",
        "colab_type": "text"
      },
      "source": [
        "**Install requirements**"
      ]
    },
    {
      "cell_type": "code",
      "metadata": {
        "id": "k9O3aM3Tb28q",
        "colab_type": "code",
        "colab": {}
      },
      "source": [
        "# !pip3 install 'torch==1.3.1'\n",
        "# !pip3 install 'torchvision==0.5.0'\n",
        "# !pip3 install 'Pillow-SIMD'\n",
        "# !pip3 install 'tqdm'"
      ],
      "execution_count": null,
      "outputs": []
    },
    {
      "cell_type": "markdown",
      "metadata": {
        "id": "fo942LMOdlh4",
        "colab_type": "text"
      },
      "source": [
        "**Import libraries**"
      ]
    },
    {
      "cell_type": "code",
      "metadata": {
        "id": "DokFOdD1dJEl",
        "colab_type": "code",
        "colab": {}
      },
      "source": [
        "import os\n",
        "import logging\n",
        "\n",
        "import torch\n",
        "import torch.nn as nn\n",
        "import torch.optim as optim\n",
        "from torch.utils.data import Subset, DataLoader \n",
        "from torch.backends import cudnn\n",
        "\n",
        "import torchvision\n",
        "from torchvision import transforms\n",
        "from torchvision.models import alexnet\n",
        "from torchvision.models import vgg16\n",
        "from torchvision.models import resnet50\n",
        "\n",
        "from PIL import Image\n",
        "from tqdm import tqdm\n",
        "import copy\n",
        "import time"
      ],
      "execution_count": 1,
      "outputs": []
    },
    {
      "cell_type": "markdown",
      "metadata": {
        "id": "OIDLJuIXK_vh",
        "colab_type": "text"
      },
      "source": [
        "**Set Arguments**"
      ]
    },
    {
      "cell_type": "code",
      "metadata": {
        "id": "d5PkYfqfK_SA",
        "colab_type": "code",
        "colab": {}
      },
      "source": [
        "DEVICE = 'cuda' # 'cuda' or 'cpu'\n",
        "\n",
        "NUM_CLASSES = 101    # 101: 'BACKGROUND_Google' class removed \n",
        "\n",
        "\n",
        "NETWORK_TYPE = 'alexnet'        # Available networks: 'alexnet', 'vgg', 'resnet'\n",
        "BATCH_SIZE = 256     # Higher batch sizes allows for larger learning rates. An empirical heuristic \n",
        "                     # suggests that, when changing the batch size, learning rate should change by \n",
        "                     # the same factor to have comparable results\n",
        "\n",
        "if NETWORK_TYPE == 'vgg' or NETWORK_TYPE == 'resnet' : \n",
        "  BATCH_SIZE = 16    # with 'vgg' and 'resnet' use lower values suche as BATCH_SIZE = 16 \n",
        "\n",
        "LR = 1e-3            # The initial Learning Rate 1e-2\n",
        "MOMENTUM = 0.9       # Hyperparameter for SGD, keep this at 0.9 when using SGD\n",
        "WEIGHT_DECAY = 5e-5  # Regularization, you can keep this at the default\n",
        "\n",
        "NUM_EPOCHS = 30      # Total number of training epochs (iterations over dataset)\n",
        "STEP_SIZE = 20       # How many epochs before decreasing learning rate (if using a step-down policy)\n",
        "GAMMA = 0.1          # Multiplicative factor for learning rate step-down\n",
        "\n",
        "LOG_FREQUENCY = 10\n",
        "PRETRAINED = True        # If 'True' the NETWORK will be pre-trained on ImageNet dataset\n",
        "FREEZE = 'conv_layers'   # Available choice: 'no_freezing', 'conv_layers', 'fc_layers'\n",
        "# BEST_NET = False          # Save the best 'snapshot' \n",
        "\n",
        "RANDOM = 42\n",
        "TRAIN_SIZE = 0.5     # split between training and validation sets"
      ],
      "execution_count": 2,
      "outputs": []
    },
    {
      "cell_type": "markdown",
      "metadata": {
        "id": "9gwii0TBHvzh",
        "colab_type": "text"
      },
      "source": [
        "**Define Data Preprocessing**"
      ]
    },
    {
      "cell_type": "code",
      "metadata": {
        "id": "QUDdw4j2H0Mc",
        "colab_type": "code",
        "colab": {}
      },
      "source": [
        "if PRETRAINED : \n",
        "  mean, stdev = (0.485, 0.456, 0.406), (0.229, 0.224, 0.225)\n",
        "else :\n",
        "  mean, stdev = (0.5, 0.5, 0.5), (0.5, 0.5, 0.5)\n",
        "\n",
        "# Define transforms for training phase\n",
        "train_transform = transforms.Compose([transforms.Resize(256),      # Resizes short size of the PIL image to 256\n",
        "                                      transforms.CenterCrop(224),  # Crops a central square patch of the image\n",
        "                                                                   # 224 because torchvision's AlexNet needs a 224x224 input!\n",
        "                                                                   # Remember this when applying different transformations, otherwise you get an error\n",
        "                                      transforms.ToTensor(), # Turn PIL Image to torch.Tensor\n",
        "                                      transforms.Normalize(mean, stdev) # Normalizes tensor with mean and standard deviation\n",
        "                                    ])\n",
        "\n",
        "\n",
        "# Define transforms for the evaluation phase\n",
        "eval_transform = transforms.Compose([transforms.Resize(256),\n",
        "                                      transforms.CenterCrop(224),\n",
        "                                      transforms.ToTensor(),\n",
        "                                      transforms.Normalize(mean, stdev)                             \n",
        "                                    ])"
      ],
      "execution_count": 3,
      "outputs": []
    },
    {
      "cell_type": "markdown",
      "metadata": {
        "id": "2qYIHPzYLY7i",
        "colab_type": "text"
      },
      "source": [
        "**Prepare Dataset**"
      ]
    },
    {
      "cell_type": "code",
      "metadata": {
        "id": "QfVq_uDHLbsR",
        "colab_type": "code",
        "colab": {
          "base_uri": "https://localhost:8080/",
          "height": 180
        },
        "outputId": "b70cf26a-49f4-400a-a5d2-26efbe916b20"
      },
      "source": [
        "from torchvision.datasets import VisionDataset, ImageFolder\n",
        "\n",
        "from PIL import Image\n",
        "import matplotlib.pyplot as plt\n",
        "import numpy as np\n",
        "\n",
        "import os\n",
        "import os.path\n",
        "import sys\n",
        "\n",
        "# Clone github repository with data\n",
        "if not os.path.isdir('./Caltech101'):\n",
        "  !git clone https://github.com/MachineLearning2020/Homework2-Caltech101.git\n",
        "  !mv 'Homework2-Caltech101' 'Caltech101'\n",
        "\n",
        "DATA_DIR = 'Caltech101/'\n",
        "from Caltech101.caltech_dataset import Caltech\n",
        "\n",
        "def pil_loader(path):\n",
        "    # open path as file to avoid ResourceWarning (https://github.com/python-pillow/Pillow/issues/835)\n",
        "    with open(path, 'rb') as f:\n",
        "        img = Image.open(f)\n",
        "        return img.convert('RGB')\n",
        "\n",
        "IMG_EXTENSIONS = ('.jpg', '.jpeg', '.png', '.ppm', '.bmp', '.pgm', '.tif', '.tiff', '.webp')\n",
        "\n",
        "def make_dataset(dir, class_to_idx, extensions=None, is_valid_file=None, split='train', transform='None') : \n",
        "    # dir = 'Caltech101'\n",
        "    images = []\n",
        "    if not ((extensions is None) ^ (is_valid_file is None)):\n",
        "        raise ValueError(\"Both extensions and is_valid_file cannot be None or not None at the same time\")\n",
        "    if extensions is not None:\n",
        "        def is_valid_file(x):\n",
        "            return x.lower().endswith(extensions)\n",
        "\n",
        "    inputFile = os.path.join(dir, split + '.txt') # 'Caltech101/{split}.txt'\n",
        "    with open(inputFile, 'r') as f:      \n",
        "      input_images = f.read().splitlines()\n",
        "\n",
        "    root = os.path.join(dir, '101_ObjectCategories/') # 'Caltech101/101_ObjectCategories/'\n",
        "\n",
        "    for fname in input_images:\n",
        "      fpath = os.path.split(fname)\n",
        "      # print(fpath) # 'accordion' 'image_0002.jpg'\n",
        "      target = fpath[0] # 'accordion'\n",
        "      path = os.path.join(root, fname) # 'Caltech101/101_ObjectCategories/accordion/image_0002.jpg'\n",
        "      if is_valid_file(path) and target != 'BACKGROUND_Google':\n",
        "        item = (path, class_to_idx[target])\n",
        "        images.append(item)\n",
        "\n",
        "    return images # paths\n",
        "\n",
        "class Caltech(VisionDataset):\n",
        "    ''' Caltech 101 Dataset '''\n",
        "\n",
        "    def __init__(self, root, split='train', transform=None, target_transform=None):\n",
        "        '''\n",
        "          Args:\n",
        "            root (string): Directory with all the images.\n",
        "            split (string): Defines the split you are going to use (split files are called 'train.txt' and 'test.txt').\n",
        "            transform (callable, optional): Optional transform to be applied on a sample.\n",
        "            target_transform (callable, optional): Optional trasform to be applied on the target labels (not used).\n",
        "        '''\n",
        "        super(Caltech, self).__init__(root, transform=transform, target_transform=target_transform)\n",
        "        self.split = split\n",
        "        \n",
        "        classes, class_to_idx = self._find_classes(self.root)\n",
        "        samples = make_dataset(self.root, class_to_idx, IMG_EXTENSIONS, split=self.split, transform=transform)\n",
        "        if len(samples) == 0:\n",
        "            raise (RuntimeError(\"Found 0 files in subfolders of: \" + self.root + \"\\n\"\n",
        "                                \"Supported extensions are: \" + \",\".join(extensions)))\n",
        "\n",
        "        self.loader = pil_loader\n",
        "        self.classes = classes\n",
        "        self.class_to_idx = class_to_idx\n",
        "        self.samples = samples\n",
        "        self.targets = [s[1] for s in samples]\n",
        "\n",
        "    def _find_classes(self, dir):        \n",
        "        root = os.path.join(dir, '101_ObjectCategories/')\n",
        "        classes = [d.name for d in os.scandir(root) if d.is_dir()]\n",
        "        classes.remove('BACKGROUND_Google')\n",
        "        classes.sort()                \n",
        "        #print(classes)\n",
        "        class_to_idx = {classes[i]: i for i in range(len(classes))}\n",
        "        #print(class_to_idx)\n",
        "        return classes, class_to_idx\n",
        "\n",
        "    def __getitem__(self, index):\n",
        "        '''\n",
        "        __getitem__ should access an element through its index\n",
        "        Args:\n",
        "            index (int): Index\n",
        "        Returns:\n",
        "            tuple: (sample, target) where target is class_index of the target class.\n",
        "        '''\n",
        "        path, label = self.samples[index]\n",
        "        sample = self.loader(path)\n",
        "\n",
        "        if self.transform is not None:\n",
        "            image = self.transform(sample)\n",
        "\n",
        "        return image, label\n",
        "\n",
        "    def __len__(self):   \n",
        "        '''\n",
        "        The __len__ method returns the length of the dataset\n",
        "        '''     \n",
        "        return len(self.samples)\n",
        "\n",
        "\n",
        "# Prepare Pytorch train/test Datasets\n",
        "train_dataset = Caltech(DATA_DIR, split='train', transform=train_transform)\n",
        "test_dataset = Caltech(DATA_DIR, split='test', transform=eval_transform)\n",
        "\n",
        "# print(f\"Training dataset: {train_dataset.__len__()}\")\n",
        "# print(f\"Test dataset: {test_dataset.__len__()}\")\n",
        "\n",
        "# Useful variables to plot distribution number of images per category\n",
        "class_to_idx = train_dataset.class_to_idx\n",
        "trainlabels = train_dataset.targets \n",
        "testlabels = test_dataset.targets\n",
        "all_labels = trainlabels + testlabels\n",
        "\n",
        "from sklearn.model_selection import StratifiedShuffleSplit\n",
        "\n",
        "# split the train_dataset in train and val  \n",
        "sss = StratifiedShuffleSplit(n_splits=1, train_size=TRAIN_SIZE, random_state=42)\n",
        "\n",
        "X = [img[0] for img in train_dataset.samples]\n",
        "y = [lab[1] for lab in train_dataset.samples]\n",
        "\n",
        "for train_idx, val_idx in sss.split(X,y) :\n",
        "  train_indexes = train_idx\n",
        "  val_indexes = val_idx\n",
        "\n",
        "val_dataset = Subset(train_dataset, val_indexes)\n",
        "train_dataset = Subset(train_dataset, train_indexes)\n",
        "\n",
        "# Check dataset sizes\n",
        "print(f\"Train Dataset:\\t{len(train_dataset)}\")\n",
        "print(f\"Valid Dataset:\\t{len(val_dataset)}\")\n",
        "print(f\"Test Dataset:\\t{len(test_dataset)}\")"
      ],
      "execution_count": 4,
      "outputs": [
        {
          "output_type": "stream",
          "text": [
            "Cloning into 'Homework2-Caltech101'...\n",
            "remote: Enumerating objects: 9256, done.\u001b[K\n",
            "remote: Total 9256 (delta 0), reused 0 (delta 0), pack-reused 9256\u001b[K\n",
            "Receiving objects: 100% (9256/9256), 129.48 MiB | 12.15 MiB/s, done.\n",
            "Resolving deltas: 100% (4/4), done.\n",
            "Checking out files: 100% (9149/9149), done.\n",
            "Train Dataset:\t2892\n",
            "Valid Dataset:\t2892\n",
            "Test Dataset:\t2893\n"
          ],
          "name": "stdout"
        }
      ]
    },
    {
      "cell_type": "code",
      "metadata": {
        "id": "lzyWVOknpkZE",
        "colab_type": "code",
        "colab": {
          "base_uri": "https://localhost:8080/",
          "height": 548
        },
        "outputId": "f5db6e0c-710b-4e81-b161-860acb7fc923"
      },
      "source": [
        "# Plot distribution number of images per category\n",
        "from collections import Counter\n",
        "\n",
        "counter = Counter(all_labels)\n",
        "count_tuples = counter.most_common()\n",
        "idx_to_class = {v:k for k,v in class_to_idx.items()}\n",
        "label_arr = [idx_to_class[target] for target,cnt in count_tuples]\n",
        "count_arr = [cnt for target,cnt in count_tuples]\n",
        "\n",
        "\n",
        "plt.figure(figsize=(18, 8))\n",
        "plt.grid(axis='y',zorder=0)\n",
        "plt.margins(x=0.01)\n",
        "plt.bar(label_arr, count_arr, color='#4287f5', align='center', zorder=3)\n",
        "plt.xticks(rotation='vertical')\n",
        "plt.show()"
      ],
      "execution_count": null,
      "outputs": [
        {
          "output_type": "display_data",
          "data": {
            "image/png": "[encoded data removed]",
            "text/plain": [
              "<Figure size 1296x576 with 1 Axes>"
            ]
          },
          "metadata": {
            "tags": [],
            "needs_background": "light"
          }
        }
      ]
    },
    {
      "cell_type": "markdown",
      "metadata": {
        "id": "FYEDQ7Z21ldN",
        "colab_type": "text"
      },
      "source": [
        "**Prepare Dataloaders**"
      ]
    },
    {
      "cell_type": "code",
      "metadata": {
        "id": "VriRw8SI1nle",
        "colab_type": "code",
        "colab": {}
      },
      "source": [
        "# Dataloaders iterate over pytorch datasets and transparently provide useful functions (e.g. parallelization and shuffling)\n",
        "train_dataloader = DataLoader(train_dataset, batch_size=BATCH_SIZE, shuffle=True, num_workers=4, drop_last=True)\n",
        "val_dataloader = DataLoader(val_dataset, batch_size=BATCH_SIZE, shuffle=False, num_workers=4)\n",
        "test_dataloader = DataLoader(test_dataset, batch_size=BATCH_SIZE, shuffle=False, num_workers=4)"
      ],
      "execution_count": 5,
      "outputs": []
    },
    {
      "cell_type": "markdown",
      "metadata": {
        "id": "O2AbwZIqkcTo",
        "colab_type": "text"
      },
      "source": [
        "**Plot some samples**"
      ]
    },
    {
      "cell_type": "code",
      "metadata": {
        "id": "_qRh3rYrkb2a",
        "colab_type": "code",
        "colab": {
          "base_uri": "https://localhost:8080/",
          "height": 108
        },
        "outputId": "7d2394ad-18bf-4f25-d69c-b5645173c47e"
      },
      "source": [
        "# Plot some samples\n",
        "def imgshow(img):\n",
        "    img = img / 2 + 0.5     # unnormalize\n",
        "    npimg = img.numpy()\n",
        "    plt.imshow(np.transpose(npimg, (1, 2, 0)))\n",
        "    plt.show()\n",
        "    return\n",
        "\n",
        "x, y = next(iter(DataLoader(train_dataset, batch_size=6, shuffle=True, num_workers=4, drop_last=True)))\n",
        "out = torchvision.utils.make_grid(x)\n",
        "imgshow(out)"
      ],
      "execution_count": null,
      "outputs": [
        {
          "output_type": "display_data",
          "data": {
            "image/png": "[encoded data removed]",
            "text/plain": [
              "<Figure size 432x288 with 1 Axes>"
            ]
          },
          "metadata": {
            "tags": [],
            "needs_background": "light"
          }
        }
      ]
    },
    {
      "cell_type": "markdown",
      "metadata": {
        "id": "gbZ1t5Qs2z4j",
        "colab_type": "text"
      },
      "source": [
        "**Prepare Network**\n"
      ]
    },
    {
      "cell_type": "code",
      "metadata": {
        "id": "exHUjtXa22DN",
        "colab_type": "code",
        "colab": {}
      },
      "source": [
        "if NETWORK_TYPE == 'alexnet':\n",
        "  net = alexnet(pretrained=PRETRAINED) # Loading AlexNet model, if pretrained = True, returns a model pre-trained on ImageNet\n",
        "\n",
        "  # AlexNet has 1000 output neurons, corresponding to the 1000 ImageNet's classes\n",
        "  # We just changed the last layer of AlexNet with a new fully connected layer with 101 outputs\n",
        "  net.classifier[6] = nn.Linear(4096, NUM_CLASSES) # nn.Linear in pytorch is a fully connected layer\n",
        "                                                   # The convolutional layer is nn.Conv2d\n",
        "# EXTRA REQUIREMENTS\n",
        "elif NETWORK_TYPE == 'vgg':\n",
        "  net = vgg16(pretrained='imagenet')\n",
        "  net.classifier[6] = nn.Linear(4096, NUM_CLASSES)\n",
        "\n",
        "elif NETWORK_TYPE == 'resnet':                                               \n",
        "  net = resnet50(pretrained=TRANSFER) # If True, returns a model pre-trained on ImageNet\n",
        "  #net = resnet18(pretrained=TRANSFER)\n",
        "  num_features = net.fc.in_features\n",
        "  net.fc = nn.Linear(num_features, NUM_CLASSES)\n",
        "  NUM_EPOCHS = [10, 10, 10, 10, 10]\n",
        "\n",
        "# print the chosen network\n",
        "print(net)"
      ],
      "execution_count": null,
      "outputs": []
    },
    {
      "cell_type": "markdown",
      "metadata": {
        "id": "KEyL3H_R4qCf",
        "colab_type": "text"
      },
      "source": [
        "**Prepare Training**"
      ]
    },
    {
      "cell_type": "code",
      "metadata": {
        "id": "9sjq00G94tSc",
        "colab_type": "code",
        "colab": {}
      },
      "source": [
        "# Define loss function\n",
        "criterion = nn.CrossEntropyLoss() # for classification, we use Cross Entropy\n",
        "\n",
        "# Choose parameters to optimize and which one to freeze\n",
        "if (FREEZE == 'no_freezing'):\n",
        "  parameters_to_optimize = net.parameters() # In this case we optimize over all the parameters of AlexNet\n",
        "elif (FREEZE == 'conv_layers'):\n",
        "  parameters_to_optimize = net.classifier.parameters() # Updates only fully-connected layers (no conv)\n",
        "elif (FREEZE == 'fc_layers'):\n",
        "  parameters_to_optimize = net.features.parameters() # Updates only conv layers (no fc)\n",
        "else :\n",
        "  raise (ValueError(f\"Error Freezing layers (FREEZE = {FREEZE}) \\n Possible values are: 'no_freezing', 'conv_layers', 'fc_layers' \"))\n",
        "\n",
        "# Define optimizer\n",
        "# An optimizer updates the weights based on loss\n",
        "# SGD with momentum\n",
        "optimizer = optim.SGD(parameters_to_optimize, lr=LR, momentum=MOMENTUM, weight_decay=WEIGHT_DECAY)\n",
        "# others: \n",
        "# optimizer = optim.SGD(parameters_to_optimize, lr=LR, momentum=MOMENTUM, weight_decay=WEIGHT_DECAY, nesterov=True)\n",
        "# Adam requires a smaller LR otherwise diverge LR <= 1e-3\n",
        "# optimizer = optim.Adam(parameters_to_optimize, lr=1e-3, betas=(0.9, 0.999), eps=1e-08, weight_decay=WEIGHT_DECAY, amsgrad=False)\n",
        "# optimzer = optim.Adadelta(params, lr=1.0, rho=0.9, eps=1e-06, weight_decay=WEIGHT_DECAY)\n",
        "\n",
        "# Define scheduler\n",
        "# A scheduler dynamically changes learning rate\n",
        "# The most common schedule is the step(-down), which multiplies learning rate by gamma every STEP_SIZE epochs\n",
        "scheduler = optim.lr_scheduler.StepLR(optimizer, step_size=STEP_SIZE, gamma=GAMMA)"
      ],
      "execution_count": 7,
      "outputs": []
    },
    {
      "cell_type": "code",
      "metadata": {
        "id": "36X-EvgJzGmy",
        "colab_type": "code",
        "colab": {}
      },
      "source": [
        "EVAL_ACCURACY_ON_TRAINING = True\n",
        "criterion_val = nn.CrossEntropyLoss(reduction='sum') # for evaluation I don't want to avg over every minibatch"
      ],
      "execution_count": 8,
      "outputs": []
    },
    {
      "cell_type": "markdown",
      "metadata": {
        "id": "c7zPWBlBwglB",
        "colab_type": "text"
      },
      "source": [
        "**Train**"
      ]
    },
    {
      "cell_type": "code",
      "metadata": {
        "id": "ZcoQ5fD49yT_",
        "colab_type": "code",
        "colab": {}
      },
      "source": [
        "print(\"Current Hyperparameters: \")\n",
        "print(f\"N_EPOCHS: {NUM_EPOCHS}\")\n",
        "print(f\"STEP_SIZE: {scheduler.step_size}\")\n",
        "print(f\"Optimizer: \\n{optimizer}\")\n",
        "\n",
        "start = time.time()\n",
        "\n",
        "# By default, everything is loaded to cpu\n",
        "net = net.to(DEVICE) # bring the network to GPU if DEVICE is cuda\n",
        "cudnn.benchmark # Calling this optimizes runtime\n",
        "\n",
        "# save best config\n",
        "best_net = 0\n",
        "best_epoch = 0\n",
        "best_val_acc = 0.0\n",
        "\n",
        "# save accuracy and loss\n",
        "train_accuracies = []\n",
        "train_losses = []\n",
        "val_accuracies = []\n",
        "val_losses = []\n",
        "\n",
        "current_step = 0\n",
        "\n",
        "# Start iterating over the epochs\n",
        "for epoch in range(NUM_EPOCHS):\n",
        "  print(f\"Starting epoch {epoch+1}/{NUM_EPOCHS}, LR = {scheduler.get_lr()}\")\n",
        "  \n",
        "  net.train() # Sets module in training mode\n",
        "\n",
        "  running_corrects_train = 0\n",
        "  running_loss_train = 0.0\n",
        "\n",
        "  # Iterate over the training dataset\n",
        "  for images, labels in train_dataloader:\n",
        "\n",
        "    # Bring data over the device of choice\n",
        "    images = images.to(DEVICE)\n",
        "    labels = labels.to(DEVICE)\n",
        "\n",
        "    # PyTorch, by default, accumulates gradients after each backward pass\n",
        "    # We need to manually set the gradients to zero before starting a new iteration\n",
        "    optimizer.zero_grad() # Zero-ing the gradients\n",
        "  \t\n",
        "    with torch.set_grad_enabled(True):\n",
        "\n",
        "      # Forward pass to the network\n",
        "      outputs_train = net(images)\n",
        "\n",
        "      _, preds = torch.max(outputs_train, 1)\n",
        "\n",
        "      # Compute loss based on output and ground truth\n",
        "      loss = criterion(outputs_train, labels)\n",
        "\n",
        "      # Log loss\n",
        "      if current_step % LOG_FREQUENCY == 0:\n",
        "        print('Step {}, Loss {}'.format(current_step, loss.item()))\n",
        "\n",
        "      # Compute gradients for each layer and update weights\n",
        "      loss.backward()  # backward pass: computes gradients\n",
        "      optimizer.step() # update weights based on accumulated gradients\n",
        "\n",
        "    current_step += 1\n",
        "\n",
        "  # store loss and accuracy values\n",
        "  running_corrects_train += torch.sum(preds == labels.data).data.item() \n",
        "  running_loss_train += loss.item() * images.size(0)\n",
        "  \n",
        "  train_acc = running_corrects_train / float(len(train_dataset))\n",
        "  train_loss = running_loss_train / float(len(train_dataset))\n",
        "\n",
        "  train_accuracies.append(train_acc)\n",
        "  train_losses.append(train_loss) # loss computed as the average on mini-batches\n",
        "  #train_loss.append(loss.item()) # loss computed only on the last batch\n",
        "\n",
        "  ### END TRAINING PHASE OF AN EPOCH\n",
        "\n",
        "  # Evaluate accuracy on the validation set after each epoch\n",
        "  net.train(False) # Set Network to evaluation mode\n",
        "\n",
        "  running_corrects_val = 0\n",
        "  running_loss_val = 0.0\n",
        "\n",
        "  for images, labels in val_dataloader:\n",
        "    images = images.to(DEVICE)\n",
        "    labels = labels.to(DEVICE)\n",
        "\n",
        "    # zero the parameter gradients\n",
        "    optimizer.zero_grad()\n",
        "\n",
        "    with torch.set_grad_enabled(False):\n",
        "\n",
        "      # Forward Pass\n",
        "      outputs = net(images)\n",
        "\n",
        "      # Get predictions\n",
        "      _, preds = torch.max(outputs, 1)\n",
        "\n",
        "      # Update Corrects\n",
        "      running_corrects_val += torch.sum(preds == labels.data).data.item()\n",
        "\n",
        "      # Calculate Loss\n",
        "      loss = criterion(outputs.data, labels)\n",
        "\n",
        "    # Update Corrects and Loss\n",
        "    running_loss_val += loss.item() * images.size(0)\n",
        "    running_corrects_val += torch.sum(preds == labels.data)\n",
        "\n",
        "  # Compute epoch loss and accuracy\n",
        "  val_loss = running_loss_val / float(len(val_dataset))\n",
        "  val_acc = running_corrects_val / float(len(val_dataset))\n",
        "\n",
        "  # memorize stats \n",
        "  val_losses.append(val_loss)\n",
        "  val_accuracies.append(val_acc)\n",
        "\n",
        "  print(f\"Validation Accuracy: {val_acc:.4f}\")\n",
        "\n",
        "  # Check if the current epoch val accuracy is better than the best found until now\n",
        "  if (val_acc >= best_val_acc) : \n",
        "    best_val_acc = val_acc\n",
        "    best_epoch = epoch\n",
        "    best_net = copy.deepcopy(net) # deep copy the model\n",
        "  \n",
        "  # Step the scheduler\n",
        "  scheduler.step() \n",
        "\n",
        "print(f\"\\nBest epoch: {best_epoch+1}\\n{best_val_acc:.4f} (Validation Accuracy)\\n\")\n",
        "print(f\"> In {(time.time()-start)/60:.2f} minutes\")\n",
        "\n",
        "# audio signal END\n",
        "beep()"
      ],
      "execution_count": null,
      "outputs": []
    },
    {
      "cell_type": "markdown",
      "metadata": {
        "id": "vcjYfSYlrNeL",
        "colab_type": "text"
      },
      "source": [
        "**Validation**"
      ]
    },
    {
      "cell_type": "code",
      "metadata": {
        "id": "XfNNwgGYrNQ8",
        "colab_type": "code",
        "colab": {
          "base_uri": "https://localhost:8080/",
          "height": 72
        },
        "outputId": "5bb573b2-8cab-4d8e-8557-84eac901e79f"
      },
      "source": [
        "net = net.to(DEVICE) # this will bring the network to GPU if DEVICE is cuda\n",
        "net.train(False) # Set Network to evaluation mode\n",
        "\n",
        "running_corrects = 0\n",
        "for images, labels in tqdm(val_dataloader):\n",
        "  images = images.to(DEVICE)\n",
        "  labels = labels.to(DEVICE)\n",
        "\n",
        "  # Forward Pass\n",
        "  outputs = net(images)\n",
        "\n",
        "  # Get predictions\n",
        "  _, preds = torch.max(outputs.data, 1)\n",
        "\n",
        "  # Update Corrects\n",
        "  running_corrects += torch.sum(preds == labels.data).data.item()\n",
        "\n",
        "# Calculate Accuracy\n",
        "accuracy = running_corrects / float(len(val_dataset))\n",
        "\n",
        "print()\n",
        "print('Validation Accuracy: {}'.format(accuracy))"
      ],
      "execution_count": 26,
      "outputs": [
        {
          "output_type": "stream",
          "text": [
            "100%|██████████| 12/12 [00:13<00:00,  1.13s/it]"
          ],
          "name": "stderr"
        },
        {
          "output_type": "stream",
          "text": [
            "\n",
            "Validation Accuracy: 0.8253803596127247\n"
          ],
          "name": "stdout"
        },
        {
          "output_type": "stream",
          "text": [
            "\n"
          ],
          "name": "stderr"
        }
      ]
    },
    {
      "cell_type": "markdown",
      "metadata": {
        "id": "jxekmR745ySe",
        "colab_type": "text"
      },
      "source": [
        "**Test**"
      ]
    },
    {
      "cell_type": "code",
      "metadata": {
        "id": "fSHcUqLB5yWO",
        "colab_type": "code",
        "colab": {
          "base_uri": "https://localhost:8080/",
          "height": 72
        },
        "outputId": "0a2e44ff-82b1-4d6c-ec18-d0a3e2a74b00"
      },
      "source": [
        "net = net.to(DEVICE) # this will bring the network to GPU if DEVICE is cuda\n",
        "net.train(False) # Set Network to evaluation mode\n",
        "\n",
        "running_corrects = 0\n",
        "for images, labels in tqdm(test_dataloader):\n",
        "  images = images.to(DEVICE)\n",
        "  labels = labels.to(DEVICE)\n",
        "\n",
        "  # Forward Pass\n",
        "  outputs = net(images)\n",
        "\n",
        "  # Get predictions\n",
        "  _, preds = torch.max(outputs.data, 1)\n",
        "\n",
        "  # Update Corrects\n",
        "  running_corrects += torch.sum(preds == labels.data).data.item()\n",
        "\n",
        "# Calculate Accuracy\n",
        "accuracy = running_corrects / float(len(test_dataset))\n",
        "\n",
        "print()\n",
        "print(f\"Test Accuracy: {accuracy}\")"
      ],
      "execution_count": 25,
      "outputs": [
        {
          "output_type": "stream",
          "text": [
            "100%|██████████| 12/12 [00:13<00:00,  1.15s/it]"
          ],
          "name": "stderr"
        },
        {
          "output_type": "stream",
          "text": [
            "\n",
            "Test Accuracy: 0.8354649153128241\n"
          ],
          "name": "stdout"
        },
        {
          "output_type": "stream",
          "text": [
            "\n"
          ],
          "name": "stderr"
        }
      ]
    }
  ]
}